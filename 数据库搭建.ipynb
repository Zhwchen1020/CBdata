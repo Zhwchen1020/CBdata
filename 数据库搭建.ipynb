{
 "cells": [
  {
   "cell_type": "code",
   "execution_count": 8,
   "outputs": [],
   "source": [
    "from WindPy import w\n",
    "import pandas as pd\n",
    "import numpy as np\n",
    "import datetime as dt\n",
    "import os"
   ],
   "metadata": {
    "collapsed": false
   }
  },
  {
   "cell_type": "code",
   "execution_count": 9,
   "outputs": [
    {
     "name": "stdout",
     "output_type": "stream",
     "text": [
      "Welcome to use Wind Quant API for Python (WindPy)!\n",
      "\n",
      "COPYRIGHT (C) 2020 WIND INFORMATION CO., LTD. ALL RIGHTS RESERVED.\n",
      "IN NO CIRCUMSTANCE SHALL WIND BE RESPONSIBLE FOR ANY DAMAGES OR LOSSES CAUSED BY USING WIND QUANT API FOR Python.\n"
     ]
    }
   ],
   "source": [
    "# 本程序用于每天早晨，可更新昨日收盘数据，并基于此进行条款跟踪与策略回测。\n",
    "w.stop()\n",
    "w.start()\n",
    "path = r\"C:\\Users\\Zhwch\\Desktop\\HaiFuTong\\Project\\市场数据\\转债数据库\\转债价格数据库_每日更新\" #保存到本地时需修改路径\n",
    "path = os.getcwd()\n",
    "os.chdir(path)"
   ],
   "metadata": {
    "collapsed": false
   }
  },
  {
   "cell_type": "code",
   "execution_count": 10,
   "outputs": [
    {
     "data": {
      "text/plain": "                日期         代码     转债价格      纯债价值      转换价值         存量  \\\n0         2017/1/3  110030.SH  114.040   96.6452   80.5785   9.780730   \n1         2017/1/3  110031.SH  108.500   93.7625   47.4801  23.995080   \n2         2017/1/3  110032.SH  111.290   91.1285   83.3109  44.998370   \n3         2017/1/3  110033.SH  115.320   92.7442   93.9529  27.996640   \n4         2017/1/3  110034.SH  123.530   91.5688  113.2433  14.996850   \n...            ...        ...      ...       ...       ...        ...   \n416780  2024/02/19  128138.SZ  117.224  117.6819   32.8691   4.198741   \n416781  2024/02/19  128141.SZ  118.001  104.8648   92.1176  12.701435   \n416782  2024/02/19  128142.SZ  107.000  104.8568   53.8462   7.179605   \n416783  2024/02/19  128143.SZ  130.310   97.7403  106.1758   1.730914   \n416784  2024/02/19  128144.SZ  103.036  104.2235   53.3333   9.793778   \n\n             成交额      纯债溢价率     转股溢价率   到期收益率   评级      转债简称   转股价格  \\\n0       0.041600  17.998618   41.5266 -1.6792   AA  格力转债(退市)   7.26   \n1       0.082600  15.717904  128.5188  0.6282  AAA  航信转债(退市)  43.05   \n2       0.319500  22.124253   33.5837 -0.0899  AA+  三一转债(退市)   7.49   \n3       0.035100  24.342007   22.7423 -0.4489  AA+  国贸转债(退市)   8.93   \n4       0.137000  34.904028    9.0831 -2.0241  AA+  九州转债(退市)  18.65   \n...          ...        ...       ...     ...  ...       ...    ...   \n416780  0.083969  -0.389100  256.6389  5.2338  AA-      侨银转债  25.13   \n416781  0.219078  12.526800   28.0982 -1.4489   AA      旺能转债  14.97   \n416782  0.082079   2.043900   98.7141  2.0739   AA      新乳转债  18.33   \n416783  6.004661  33.322700   22.7304 -3.0629   A+      锋龙转债  12.63   \n416784  0.268878  -1.139400   93.1926  3.2420   AA      利民转债  10.95   \n\n        正股价格（前复权）                 正股涨跌幅     正股成交额         到期日       赎回公告日  \\\n0          5.3527           0.006884682  0.253800  2019/12/25         NaN   \n1         18.4445           0.024561404  2.752400   2021/6/12         NaN   \n2          5.5448            0.02295082  1.139900    2022/1/4    2019/3/4   \n3          6.1552           0.023170732  1.274200    2022/1/5  2021/10/12   \n4         12.7843           0.018322083  1.243200   2022/1/15         NaN   \n...           ...                   ...       ...         ...         ...   \n416780     8.2600    0.0403022670025186  0.396598  2026-11-17         NaN   \n416781    13.7900  -0.01076040172166437  0.427121  2026-12-17         NaN   \n416782     9.8700  0.013347022587268942  0.810064  2026-12-18         NaN   \n416783    13.4100   0.02444614209320095  3.069519  2027-01-08         NaN   \n416784     5.8400   0.03546099290780136  0.360948  2027-03-01         NaN   \n\n       主体评级展望  \n0          稳定  \n1          稳定  \n2          负面  \n3          稳定  \n4          稳定  \n...       ...  \n416780     稳定  \n416781     稳定  \n416782     稳定  \n416783     稳定  \n416784     稳定  \n\n[416785 rows x 19 columns]",
      "text/html": "<div>\n<style scoped>\n    .dataframe tbody tr th:only-of-type {\n        vertical-align: middle;\n    }\n\n    .dataframe tbody tr th {\n        vertical-align: top;\n    }\n\n    .dataframe thead th {\n        text-align: right;\n    }\n</style>\n<table border=\"1\" class=\"dataframe\">\n  <thead>\n    <tr style=\"text-align: right;\">\n      <th></th>\n      <th>日期</th>\n      <th>代码</th>\n      <th>转债价格</th>\n      <th>纯债价值</th>\n      <th>转换价值</th>\n      <th>存量</th>\n      <th>成交额</th>\n      <th>纯债溢价率</th>\n      <th>转股溢价率</th>\n      <th>到期收益率</th>\n      <th>评级</th>\n      <th>转债简称</th>\n      <th>转股价格</th>\n      <th>正股价格（前复权）</th>\n      <th>正股涨跌幅</th>\n      <th>正股成交额</th>\n      <th>到期日</th>\n      <th>赎回公告日</th>\n      <th>主体评级展望</th>\n    </tr>\n  </thead>\n  <tbody>\n    <tr>\n      <th>0</th>\n      <td>2017/1/3</td>\n      <td>110030.SH</td>\n      <td>114.040</td>\n      <td>96.6452</td>\n      <td>80.5785</td>\n      <td>9.780730</td>\n      <td>0.041600</td>\n      <td>17.998618</td>\n      <td>41.5266</td>\n      <td>-1.6792</td>\n      <td>AA</td>\n      <td>格力转债(退市)</td>\n      <td>7.26</td>\n      <td>5.3527</td>\n      <td>0.006884682</td>\n      <td>0.253800</td>\n      <td>2019/12/25</td>\n      <td>NaN</td>\n      <td>稳定</td>\n    </tr>\n    <tr>\n      <th>1</th>\n      <td>2017/1/3</td>\n      <td>110031.SH</td>\n      <td>108.500</td>\n      <td>93.7625</td>\n      <td>47.4801</td>\n      <td>23.995080</td>\n      <td>0.082600</td>\n      <td>15.717904</td>\n      <td>128.5188</td>\n      <td>0.6282</td>\n      <td>AAA</td>\n      <td>航信转债(退市)</td>\n      <td>43.05</td>\n      <td>18.4445</td>\n      <td>0.024561404</td>\n      <td>2.752400</td>\n      <td>2021/6/12</td>\n      <td>NaN</td>\n      <td>稳定</td>\n    </tr>\n    <tr>\n      <th>2</th>\n      <td>2017/1/3</td>\n      <td>110032.SH</td>\n      <td>111.290</td>\n      <td>91.1285</td>\n      <td>83.3109</td>\n      <td>44.998370</td>\n      <td>0.319500</td>\n      <td>22.124253</td>\n      <td>33.5837</td>\n      <td>-0.0899</td>\n      <td>AA+</td>\n      <td>三一转债(退市)</td>\n      <td>7.49</td>\n      <td>5.5448</td>\n      <td>0.02295082</td>\n      <td>1.139900</td>\n      <td>2022/1/4</td>\n      <td>2019/3/4</td>\n      <td>负面</td>\n    </tr>\n    <tr>\n      <th>3</th>\n      <td>2017/1/3</td>\n      <td>110033.SH</td>\n      <td>115.320</td>\n      <td>92.7442</td>\n      <td>93.9529</td>\n      <td>27.996640</td>\n      <td>0.035100</td>\n      <td>24.342007</td>\n      <td>22.7423</td>\n      <td>-0.4489</td>\n      <td>AA+</td>\n      <td>国贸转债(退市)</td>\n      <td>8.93</td>\n      <td>6.1552</td>\n      <td>0.023170732</td>\n      <td>1.274200</td>\n      <td>2022/1/5</td>\n      <td>2021/10/12</td>\n      <td>稳定</td>\n    </tr>\n    <tr>\n      <th>4</th>\n      <td>2017/1/3</td>\n      <td>110034.SH</td>\n      <td>123.530</td>\n      <td>91.5688</td>\n      <td>113.2433</td>\n      <td>14.996850</td>\n      <td>0.137000</td>\n      <td>34.904028</td>\n      <td>9.0831</td>\n      <td>-2.0241</td>\n      <td>AA+</td>\n      <td>九州转债(退市)</td>\n      <td>18.65</td>\n      <td>12.7843</td>\n      <td>0.018322083</td>\n      <td>1.243200</td>\n      <td>2022/1/15</td>\n      <td>NaN</td>\n      <td>稳定</td>\n    </tr>\n    <tr>\n      <th>...</th>\n      <td>...</td>\n      <td>...</td>\n      <td>...</td>\n      <td>...</td>\n      <td>...</td>\n      <td>...</td>\n      <td>...</td>\n      <td>...</td>\n      <td>...</td>\n      <td>...</td>\n      <td>...</td>\n      <td>...</td>\n      <td>...</td>\n      <td>...</td>\n      <td>...</td>\n      <td>...</td>\n      <td>...</td>\n      <td>...</td>\n      <td>...</td>\n    </tr>\n    <tr>\n      <th>416780</th>\n      <td>2024/02/19</td>\n      <td>128138.SZ</td>\n      <td>117.224</td>\n      <td>117.6819</td>\n      <td>32.8691</td>\n      <td>4.198741</td>\n      <td>0.083969</td>\n      <td>-0.389100</td>\n      <td>256.6389</td>\n      <td>5.2338</td>\n      <td>AA-</td>\n      <td>侨银转债</td>\n      <td>25.13</td>\n      <td>8.2600</td>\n      <td>0.0403022670025186</td>\n      <td>0.396598</td>\n      <td>2026-11-17</td>\n      <td>NaN</td>\n      <td>稳定</td>\n    </tr>\n    <tr>\n      <th>416781</th>\n      <td>2024/02/19</td>\n      <td>128141.SZ</td>\n      <td>118.001</td>\n      <td>104.8648</td>\n      <td>92.1176</td>\n      <td>12.701435</td>\n      <td>0.219078</td>\n      <td>12.526800</td>\n      <td>28.0982</td>\n      <td>-1.4489</td>\n      <td>AA</td>\n      <td>旺能转债</td>\n      <td>14.97</td>\n      <td>13.7900</td>\n      <td>-0.01076040172166437</td>\n      <td>0.427121</td>\n      <td>2026-12-17</td>\n      <td>NaN</td>\n      <td>稳定</td>\n    </tr>\n    <tr>\n      <th>416782</th>\n      <td>2024/02/19</td>\n      <td>128142.SZ</td>\n      <td>107.000</td>\n      <td>104.8568</td>\n      <td>53.8462</td>\n      <td>7.179605</td>\n      <td>0.082079</td>\n      <td>2.043900</td>\n      <td>98.7141</td>\n      <td>2.0739</td>\n      <td>AA</td>\n      <td>新乳转债</td>\n      <td>18.33</td>\n      <td>9.8700</td>\n      <td>0.013347022587268942</td>\n      <td>0.810064</td>\n      <td>2026-12-18</td>\n      <td>NaN</td>\n      <td>稳定</td>\n    </tr>\n    <tr>\n      <th>416783</th>\n      <td>2024/02/19</td>\n      <td>128143.SZ</td>\n      <td>130.310</td>\n      <td>97.7403</td>\n      <td>106.1758</td>\n      <td>1.730914</td>\n      <td>6.004661</td>\n      <td>33.322700</td>\n      <td>22.7304</td>\n      <td>-3.0629</td>\n      <td>A+</td>\n      <td>锋龙转债</td>\n      <td>12.63</td>\n      <td>13.4100</td>\n      <td>0.02444614209320095</td>\n      <td>3.069519</td>\n      <td>2027-01-08</td>\n      <td>NaN</td>\n      <td>稳定</td>\n    </tr>\n    <tr>\n      <th>416784</th>\n      <td>2024/02/19</td>\n      <td>128144.SZ</td>\n      <td>103.036</td>\n      <td>104.2235</td>\n      <td>53.3333</td>\n      <td>9.793778</td>\n      <td>0.268878</td>\n      <td>-1.139400</td>\n      <td>93.1926</td>\n      <td>3.2420</td>\n      <td>AA</td>\n      <td>利民转债</td>\n      <td>10.95</td>\n      <td>5.8400</td>\n      <td>0.03546099290780136</td>\n      <td>0.360948</td>\n      <td>2027-03-01</td>\n      <td>NaN</td>\n      <td>稳定</td>\n    </tr>\n  </tbody>\n</table>\n<p>416785 rows × 19 columns</p>\n</div>"
     },
     "execution_count": 10,
     "metadata": {},
     "output_type": "execute_result"
    }
   ],
   "source": [
    "df = pd.read_csv(r\"转债价格数据库_每日更新.csv\",encoding=\"gbk\", low_memory=False) #保存到本地时需修改文件名\n",
    "df"
   ],
   "metadata": {
    "collapsed": false
   }
  },
  {
   "cell_type": "code",
   "execution_count": 11,
   "outputs": [
    {
     "name": "stdout",
     "output_type": "stream",
     "text": [
      "2024-02-19 00:00:00\n"
     ]
    },
    {
     "data": {
      "text/plain": "[datetime.datetime(2024, 2, 20, 0, 0)]"
     },
     "execution_count": 11,
     "metadata": {},
     "output_type": "execute_result"
    }
   ],
   "source": [
    "recording_date = dt.datetime.strptime(df[\"日期\"].iloc[-2],\"%Y/%m/%d\")\n",
    "print(recording_date)\n",
    "s_date = str(recording_date + dt.timedelta(1)).split()[0]\n",
    "#s_date = dt.datetime.strptime(\"2019-01-01\",\"%Y-%m-%d\")\n",
    "#t_date = \"2023-07-10\"  #手动输入最新更新的交易日\n",
    "\n",
    "today = dt.datetime.today().hour\n",
    "if today >= 16:\n",
    "    t_date = str(dt.datetime.today()).split()[0]\n",
    "else:\n",
    "    t_date = str(dt.datetime.today()- dt.timedelta(days=1)).split()[0]\n",
    "\n",
    "date_list = []\n",
    "\n",
    "date_list = w.tdays(s_date, t_date, \"\").Data[0]\n",
    "date_list"
   ],
   "metadata": {
    "collapsed": false
   }
  },
  {
   "cell_type": "code",
   "execution_count": 12,
   "outputs": [
    {
     "name": "stdout",
     "output_type": "stream",
     "text": [
      "2024-02-20 00:00:00\n",
      "2024-02-20数据已收集！\n",
      "2024-02-20更新已完成！\n"
     ]
    }
   ],
   "source": [
    "if date_list==[]:\n",
    "    raise Exception(\"已更新至最新数据，无需再次收集。\")\n",
    "\n",
    "df_f = pd.DataFrame()\n",
    "\n",
    "for day in date_list:\n",
    "    print(day)\n",
    "    day_s = dt.datetime.strftime(day,\"%Y/%m/%d\")\n",
    "    #导出当日的所有转债代码\n",
    "    data = w.wset(\"sectorconstituent\",\"date=%s;sectorid=1000040882000000\"% day_s,use_df=True)\n",
    "    df = pd.DataFrame(data.Data,columns = data.Codes,index=data.Fields ).T\n",
    "    code = df.wind_code.tolist()\n",
    "    data = w.wss(code, \"ipo_date\",use_df=True)\n",
    "    df = pd.DataFrame(data.Data,columns = data.Codes,index=data.Fields ).T\n",
    "    code = df[(df[\"IPO_DATE\"]<=day) & (df[\"IPO_DATE\"]>=pd.to_datetime(\"2017/1/1\"))].index.tolist()\n",
    "    #提取当日转债价格、纯债价值、转换价值、存量、纯债溢价率、转股溢价率、评级数据\n",
    "    # data = w.wss(code,\"close,strbvalue,convvalue,outstandingbalance,amt,strbpremiumratio,convpremiumratio,ytm_cb,rate_ratebond,sec_name,clause_conversion2_swapshareprice, actualmaturitydate\",\"tradeDate=%s;priceAdj=B;cycle=D;ratingAgency=101;unit=1\"%day_s)\n",
    "    data = w.wss(code,\"close,strbvalue,convvalue,outstandingbalance,amt,strbpremiumratio,convpremiumratio,ytm_cb,rate_ratebond,sec_name,clause_conversion2_swapshareprice, actualmaturitydate, rate_fwdissuer,clause_calloption_noticedate\",\"tradeDate=%s;priceAdj=B;cycle=D;ratingAgency=101;type=1;unit=1\"%day_s)\n",
    "    df_d = pd.DataFrame(data.Data,columns = data.Codes,index=data.Fields ).T\n",
    "    df_d['CLAUSE_CALLOPTION_NOTICEDATE'] = df_d['CLAUSE_CALLOPTION_NOTICEDATE'].replace(pd.to_datetime(\"1899-12-30\"), np.nan)\n",
    "    df_d[\"AMT\"] = df_d[\"AMT\"]/100000000\n",
    "\n",
    "    zhenggu = w.wss(code, \"cb_pq_stockclose,cb_pq_stockpctchg,cb_pq_stockamnt\",\"startDate=%s;endDate=%s;priceAdj=F;unit=1\"%(day_s,day_s))\n",
    "    df_zhenggu = pd.DataFrame(zhenggu.Data,columns = zhenggu.Codes,index=zhenggu.Fields ).T\n",
    "    df_zhenggu[\"CB_PQ_STOCKAMNT\"] = df_zhenggu[\"CB_PQ_STOCKAMNT\"]/100000000\n",
    "    df_zhenggu[\"CB_PQ_STOCKPCTCHG\"] = df_zhenggu[\"CB_PQ_STOCKPCTCHG\"]/100\n",
    "\n",
    "\n",
    "    df_d[['CB_PQ_STOCKCLOSE', 'CB_PQ_STOCKPCTCHG', 'CB_PQ_STOCKAMNT']] = df_zhenggu[['CB_PQ_STOCKCLOSE', 'CB_PQ_STOCKPCTCHG', 'CB_PQ_STOCKAMNT']]\n",
    "\n",
    "    df_d[\"日期\"] = day_s\n",
    "    df_d = df_d.reset_index().set_index(\"日期\")\n",
    "    df_d = df_d.rename(columns={\"index\":\"代码\", \"CLOSE\":\"转债价格\", \"STRBVALUE\":\"纯债价值\", \"CONVVALUE\":\"转换价值\", \"OUTSTANDINGBALANCE\":\"存量\", \"AMT\":\"成交额\", \"STRBPREMIUMRATIO\":\"纯债溢价率\", \"CONVPREMIUMRATIO\":\"转股溢价率\", \"YTM_CB\":\"到期收益率\", \"RATE_RATEBOND\":\"评级\", \"SEC_NAME\":\"转债简称\", \"CLAUSE_CONVERSION2_SWAPSHAREPRICE\":\"转股价格\", \"CB_PQ_STOCKCLOSE\":\"正股价格（前复权）\", \"ACTUALMATURITYDATE\":\"到期日\", \"CB_PQ_STOCKPCTCHG\":\"正股涨跌幅\", \"CB_PQ_STOCKAMNT\":\"正股成交额\", \"CLAUSE_CALLOPTION_NOTICEDATE\":\"赎回公告日\", \"RATE_FWDISSUER\":\"主体评级展望\"})\n",
    "    # 把到期日调整为date格式\n",
    "    df_d[\"到期日\"] = df_d[\"到期日\"].dt.date\n",
    "    df_d[\"赎回公告日\"] = df_d[\"赎回公告日\"].dt.date\n",
    "    df_f = pd.concat([df_f,df_d])\n",
    "# df_f.to_csv(\"转债价格数据库_最新单日数据.csv\",encoding=\"gbk\")\n",
    "print(\"%s数据已收集！\"%str(t_date))\n",
    "\n",
    "df = pd.read_csv(r\"转债价格数据库_每日更新.csv\",encoding=\"gbk\", low_memory=False,index_col=0)\n",
    "df_new = pd.concat([df, df_f])\n",
    "\n",
    "df_new.to_csv(\"转债价格数据库_每日更新.csv\",encoding=\"gbk\")\n",
    "print(\"%s更新已完成！\"%str(t_date))"
   ],
   "metadata": {
    "collapsed": false
   }
  },
  {
   "cell_type": "code",
   "execution_count": 13,
   "outputs": [
    {
     "data": {
      "text/plain": "                   代码     转债价格      纯债价值      转换价值         存量       成交额  \\\n日期                                                                        \n2024/02/20  110044.SH   164.65  107.0922   54.5455    0.70666  0.905879   \n2024/02/20  110045.SH  136.122  106.9985  136.0656   12.94644  1.538026   \n2024/02/20  110047.SH    109.3  110.9734   72.9958   22.46118  0.189255   \n2024/02/20  110048.SH  161.123  106.9325  159.9641  11.882391  1.604002   \n2024/02/20  110052.SH  122.398  112.1517   91.1839    2.64168  0.391615   \n...               ...      ...       ...       ...        ...       ...   \n2024/02/20  128138.SZ  117.379  117.7366   33.1078   4.198741  0.066488   \n2024/02/20  128141.SZ   118.16  104.8595    91.984  12.701435  0.213498   \n2024/02/20  128142.SZ  106.401  104.8515   53.3552   7.179605  0.210225   \n2024/02/20  128143.SZ  131.051   97.7849  102.8504   1.730914  1.571417   \n2024/02/20  128144.SZ  104.115  104.2358   53.8813   9.793778  0.233617   \n\n              纯债溢价率     转股溢价率    到期收益率   评级  转债简称   转股价格  正股价格（前复权）     正股涨跌幅  \\\n日期                                                                              \n2024/02/20   53.746  201.8581 -69.9551   AA  广电转债   6.82       3.72  0.030471   \n2024/02/20  27.2186    0.0415 -44.3777  AA+  海澜转债    6.1       8.30  0.019656   \n2024/02/20  -1.5079   49.7346   4.5178  AA+  山鹰转债   2.37       1.73       0.0   \n2024/02/20  50.6773    0.7245 -38.7499  AA+  福能转债   5.57       8.91  0.027682   \n2024/02/20   9.1361    34.232   -5.921  AA+  贵广转债   7.94       7.24   0.00277   \n...             ...       ...      ...  ...   ...    ...        ...       ...   \n2024/02/20  -0.3037  254.5358   5.1876  AA-  侨银转债  25.13       8.32  0.007264   \n2024/02/20  12.6841   28.4571   -1.498   AA  旺能转债  14.97      13.77  -0.00145   \n2024/02/20   1.4778   99.4201   2.2821   AA  新乳转债  18.33       9.78 -0.009119   \n2024/02/20  34.0197    27.419  -3.2594   A+  锋龙转债  12.63      12.99  -0.03132   \n2024/02/20  -0.1159   93.2303   2.8838   AA  利民转债  10.95       5.90  0.010274   \n\n               正股成交额         到期日 赎回公告日 主体评级展望  \n日期                                             \n2024/02/20  0.673041  2024-06-27   NaT     稳定  \n2024/02/20  3.954796  2024-07-15   NaT     稳定  \n2024/02/20  0.415541  2024-11-21   NaT     负面  \n2024/02/20  2.274767  2024-12-09   NaT     稳定  \n2024/02/20  1.069643  2025-03-05   NaT     稳定  \n...              ...         ...   ...    ...  \n2024/02/20  0.257457  2026-11-17   NaT     稳定  \n2024/02/20  0.267965  2026-12-17   NaT     稳定  \n2024/02/20  0.383852  2026-12-18   NaT     稳定  \n2024/02/20  1.996520  2027-01-08   NaT     稳定  \n2024/02/20  0.195181  2027-03-01   NaT     稳定  \n\n[548 rows x 18 columns]",
      "text/html": "<div>\n<style scoped>\n    .dataframe tbody tr th:only-of-type {\n        vertical-align: middle;\n    }\n\n    .dataframe tbody tr th {\n        vertical-align: top;\n    }\n\n    .dataframe thead th {\n        text-align: right;\n    }\n</style>\n<table border=\"1\" class=\"dataframe\">\n  <thead>\n    <tr style=\"text-align: right;\">\n      <th></th>\n      <th>代码</th>\n      <th>转债价格</th>\n      <th>纯债价值</th>\n      <th>转换价值</th>\n      <th>存量</th>\n      <th>成交额</th>\n      <th>纯债溢价率</th>\n      <th>转股溢价率</th>\n      <th>到期收益率</th>\n      <th>评级</th>\n      <th>转债简称</th>\n      <th>转股价格</th>\n      <th>正股价格（前复权）</th>\n      <th>正股涨跌幅</th>\n      <th>正股成交额</th>\n      <th>到期日</th>\n      <th>赎回公告日</th>\n      <th>主体评级展望</th>\n    </tr>\n    <tr>\n      <th>日期</th>\n      <th></th>\n      <th></th>\n      <th></th>\n      <th></th>\n      <th></th>\n      <th></th>\n      <th></th>\n      <th></th>\n      <th></th>\n      <th></th>\n      <th></th>\n      <th></th>\n      <th></th>\n      <th></th>\n      <th></th>\n      <th></th>\n      <th></th>\n      <th></th>\n    </tr>\n  </thead>\n  <tbody>\n    <tr>\n      <th>2024/02/20</th>\n      <td>110044.SH</td>\n      <td>164.65</td>\n      <td>107.0922</td>\n      <td>54.5455</td>\n      <td>0.70666</td>\n      <td>0.905879</td>\n      <td>53.746</td>\n      <td>201.8581</td>\n      <td>-69.9551</td>\n      <td>AA</td>\n      <td>广电转债</td>\n      <td>6.82</td>\n      <td>3.72</td>\n      <td>0.030471</td>\n      <td>0.673041</td>\n      <td>2024-06-27</td>\n      <td>NaT</td>\n      <td>稳定</td>\n    </tr>\n    <tr>\n      <th>2024/02/20</th>\n      <td>110045.SH</td>\n      <td>136.122</td>\n      <td>106.9985</td>\n      <td>136.0656</td>\n      <td>12.94644</td>\n      <td>1.538026</td>\n      <td>27.2186</td>\n      <td>0.0415</td>\n      <td>-44.3777</td>\n      <td>AA+</td>\n      <td>海澜转债</td>\n      <td>6.1</td>\n      <td>8.30</td>\n      <td>0.019656</td>\n      <td>3.954796</td>\n      <td>2024-07-15</td>\n      <td>NaT</td>\n      <td>稳定</td>\n    </tr>\n    <tr>\n      <th>2024/02/20</th>\n      <td>110047.SH</td>\n      <td>109.3</td>\n      <td>110.9734</td>\n      <td>72.9958</td>\n      <td>22.46118</td>\n      <td>0.189255</td>\n      <td>-1.5079</td>\n      <td>49.7346</td>\n      <td>4.5178</td>\n      <td>AA+</td>\n      <td>山鹰转债</td>\n      <td>2.37</td>\n      <td>1.73</td>\n      <td>0.0</td>\n      <td>0.415541</td>\n      <td>2024-11-21</td>\n      <td>NaT</td>\n      <td>负面</td>\n    </tr>\n    <tr>\n      <th>2024/02/20</th>\n      <td>110048.SH</td>\n      <td>161.123</td>\n      <td>106.9325</td>\n      <td>159.9641</td>\n      <td>11.882391</td>\n      <td>1.604002</td>\n      <td>50.6773</td>\n      <td>0.7245</td>\n      <td>-38.7499</td>\n      <td>AA+</td>\n      <td>福能转债</td>\n      <td>5.57</td>\n      <td>8.91</td>\n      <td>0.027682</td>\n      <td>2.274767</td>\n      <td>2024-12-09</td>\n      <td>NaT</td>\n      <td>稳定</td>\n    </tr>\n    <tr>\n      <th>2024/02/20</th>\n      <td>110052.SH</td>\n      <td>122.398</td>\n      <td>112.1517</td>\n      <td>91.1839</td>\n      <td>2.64168</td>\n      <td>0.391615</td>\n      <td>9.1361</td>\n      <td>34.232</td>\n      <td>-5.921</td>\n      <td>AA+</td>\n      <td>贵广转债</td>\n      <td>7.94</td>\n      <td>7.24</td>\n      <td>0.00277</td>\n      <td>1.069643</td>\n      <td>2025-03-05</td>\n      <td>NaT</td>\n      <td>稳定</td>\n    </tr>\n    <tr>\n      <th>...</th>\n      <td>...</td>\n      <td>...</td>\n      <td>...</td>\n      <td>...</td>\n      <td>...</td>\n      <td>...</td>\n      <td>...</td>\n      <td>...</td>\n      <td>...</td>\n      <td>...</td>\n      <td>...</td>\n      <td>...</td>\n      <td>...</td>\n      <td>...</td>\n      <td>...</td>\n      <td>...</td>\n      <td>...</td>\n      <td>...</td>\n    </tr>\n    <tr>\n      <th>2024/02/20</th>\n      <td>128138.SZ</td>\n      <td>117.379</td>\n      <td>117.7366</td>\n      <td>33.1078</td>\n      <td>4.198741</td>\n      <td>0.066488</td>\n      <td>-0.3037</td>\n      <td>254.5358</td>\n      <td>5.1876</td>\n      <td>AA-</td>\n      <td>侨银转债</td>\n      <td>25.13</td>\n      <td>8.32</td>\n      <td>0.007264</td>\n      <td>0.257457</td>\n      <td>2026-11-17</td>\n      <td>NaT</td>\n      <td>稳定</td>\n    </tr>\n    <tr>\n      <th>2024/02/20</th>\n      <td>128141.SZ</td>\n      <td>118.16</td>\n      <td>104.8595</td>\n      <td>91.984</td>\n      <td>12.701435</td>\n      <td>0.213498</td>\n      <td>12.6841</td>\n      <td>28.4571</td>\n      <td>-1.498</td>\n      <td>AA</td>\n      <td>旺能转债</td>\n      <td>14.97</td>\n      <td>13.77</td>\n      <td>-0.00145</td>\n      <td>0.267965</td>\n      <td>2026-12-17</td>\n      <td>NaT</td>\n      <td>稳定</td>\n    </tr>\n    <tr>\n      <th>2024/02/20</th>\n      <td>128142.SZ</td>\n      <td>106.401</td>\n      <td>104.8515</td>\n      <td>53.3552</td>\n      <td>7.179605</td>\n      <td>0.210225</td>\n      <td>1.4778</td>\n      <td>99.4201</td>\n      <td>2.2821</td>\n      <td>AA</td>\n      <td>新乳转债</td>\n      <td>18.33</td>\n      <td>9.78</td>\n      <td>-0.009119</td>\n      <td>0.383852</td>\n      <td>2026-12-18</td>\n      <td>NaT</td>\n      <td>稳定</td>\n    </tr>\n    <tr>\n      <th>2024/02/20</th>\n      <td>128143.SZ</td>\n      <td>131.051</td>\n      <td>97.7849</td>\n      <td>102.8504</td>\n      <td>1.730914</td>\n      <td>1.571417</td>\n      <td>34.0197</td>\n      <td>27.419</td>\n      <td>-3.2594</td>\n      <td>A+</td>\n      <td>锋龙转债</td>\n      <td>12.63</td>\n      <td>12.99</td>\n      <td>-0.03132</td>\n      <td>1.996520</td>\n      <td>2027-01-08</td>\n      <td>NaT</td>\n      <td>稳定</td>\n    </tr>\n    <tr>\n      <th>2024/02/20</th>\n      <td>128144.SZ</td>\n      <td>104.115</td>\n      <td>104.2358</td>\n      <td>53.8813</td>\n      <td>9.793778</td>\n      <td>0.233617</td>\n      <td>-0.1159</td>\n      <td>93.2303</td>\n      <td>2.8838</td>\n      <td>AA</td>\n      <td>利民转债</td>\n      <td>10.95</td>\n      <td>5.90</td>\n      <td>0.010274</td>\n      <td>0.195181</td>\n      <td>2027-03-01</td>\n      <td>NaT</td>\n      <td>稳定</td>\n    </tr>\n  </tbody>\n</table>\n<p>548 rows × 18 columns</p>\n</div>"
     },
     "execution_count": 13,
     "metadata": {},
     "output_type": "execute_result"
    }
   ],
   "source": [
    "df_new.loc[df_new.index[-1]]"
   ],
   "metadata": {
    "collapsed": false
   }
  },
  {
   "cell_type": "code",
   "execution_count": 14,
   "outputs": [],
   "source": [
    "# data = w.wset(\"sectorconstituent\",\"date=%s;sectorid=1000040882000000\"%\"2023-12-25\",use_df=True)\n",
    "# df = pd.DataFrame(data.Data,columns = data.Codes,index=data.Fields ).T\n",
    "# code = df.wind_code.tolist()\n",
    "# data = w.wss(code,\"close,strbvalue,convvalue,outstandingbalance,amt,strbpremiumratio,convpremiumratio,ytm_cb,rate_ratebond,sec_name,clause_conversion2_swapshareprice, actualmaturitydate, rate_fwdissuer,clause_calloption_noticedate\",\"tradeDate=%s;priceAdj=B;cycle=D;ratingAgency=101;type=1;unit=1\"%\"2023-12-25\")\n",
    "# df_d = pd.DataFrame(data.Data,columns = data.Codes,index=data.Fields ).T\n",
    "# df_d"
   ],
   "metadata": {
    "collapsed": false
   }
  },
  {
   "cell_type": "code",
   "execution_count": 14,
   "outputs": [],
   "source": [],
   "metadata": {
    "collapsed": false
   }
  }
 ],
 "metadata": {
  "kernelspec": {
   "display_name": "Python 3",
   "language": "python",
   "name": "python3"
  },
  "language_info": {
   "codemirror_mode": {
    "name": "ipython",
    "version": 2
   },
   "file_extension": ".py",
   "mimetype": "text/x-python",
   "name": "python",
   "nbconvert_exporter": "python",
   "pygments_lexer": "ipython2",
   "version": "2.7.6"
  }
 },
 "nbformat": 4,
 "nbformat_minor": 0
}
